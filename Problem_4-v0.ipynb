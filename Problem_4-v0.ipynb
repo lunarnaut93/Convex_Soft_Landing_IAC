{
 "cells": [
  {
   "cell_type": "code",
   "execution_count": 1,
   "id": "6c788add",
   "metadata": {
    "executionInfo": {
     "elapsed": 2216,
     "status": "ok",
     "timestamp": 1659493767617,
     "user": {
      "displayName": "Julian Wang",
      "userId": "06808066235834124143"
     },
     "user_tz": 240
    },
    "id": "6c788add"
   },
   "outputs": [],
   "source": [
    "# Import packages.\n",
    "import cvxpy as cp\n",
    "import numpy as np\n",
    "import math\n",
    "from scipy.linalg import expm\n",
    "import matplotlib.pyplot as plt\n",
    "from cvxpylayers.torch import CvxpyLayer\n",
    "\n",
    "# Configure the display settings\n",
    "np.set_printoptions(edgeitems=30, linewidth=125, \n",
    "    formatter=dict(float=lambda x: \"%5.5f\" % x))"
   ]
  },
  {
   "cell_type": "code",
   "execution_count": 2,
   "id": "ef802db3",
   "metadata": {
    "executionInfo": {
     "elapsed": 133,
     "status": "ok",
     "timestamp": 1659493770777,
     "user": {
      "displayName": "Julian Wang",
      "userId": "06808066235834124143"
     },
     "user_tz": 240
    },
    "id": "ef802db3"
   },
   "outputs": [],
   "source": [
    "# Parameter Initialization\n",
    "# Background Parameter\n",
    "g=[-3.7114, 0, 0]\n",
    "pi = math.pi\n",
    "m_dry=1505\n",
    "m_wet=1905\n",
    "I_sp=225\n",
    "T1=930\n",
    "T2=2480\n",
    "n=6\n",
    "phii=27*2*pi/360\n",
    "alpha=5.09e-4\n",
    "# alpha = cp.Parameter(name=\"alpha\", shape=1, value=s5.09e-4)"
   ]
  },
  {
   "cell_type": "code",
   "execution_count": 3,
   "id": "7ef7f3c2",
   "metadata": {
    "executionInfo": {
     "elapsed": 142,
     "status": "ok",
     "timestamp": 1659303857330,
     "user": {
      "displayName": "Julian Wang",
      "userId": "06808066235834124143"
     },
     "user_tz": 240
    },
    "id": "7ef7f3c2"
   },
   "outputs": [],
   "source": [
    "# Optimal t_f and N\n",
    "t_f=68\n",
    "N=55\n",
    "time_step=t_f/N\n",
    "#Initial State\n",
    "position_0=[3000, 1000, 2000]\n",
    "velocity_0=[-50,10,100]\n",
    "y0=np.array([position_0 + velocity_0 + [np.log(m_wet)]]).T\n",
    "#print(y0, y0.shape)"
   ]
  },
  {
   "cell_type": "code",
   "execution_count": 4,
   "id": "ee47495a",
   "metadata": {
    "executionInfo": {
     "elapsed": 139,
     "status": "ok",
     "timestamp": 1659303880185,
     "user": {
      "displayName": "Julian Wang",
      "userId": "06808066235834124143"
     },
     "user_tz": 240
    },
    "id": "ee47495a"
   },
   "outputs": [],
   "source": [
    "# Define A_c Matrix\n",
    "A_c1 = np.concatenate((np.zeros((3,3)), np.identity(3)), axis=1)\n",
    "A_c2 = np.concatenate((A_c1, np.zeros((3,1))), axis=1)\n",
    "A_c = np.concatenate((A_c2, np.zeros((4,7))), axis=0)\n",
    "#print(A_c,A_c.shape)"
   ]
  },
  {
   "cell_type": "code",
   "execution_count": 5,
   "id": "a668f3fa",
   "metadata": {
    "executionInfo": {
     "elapsed": 140,
     "status": "ok",
     "timestamp": 1659303888803,
     "user": {
      "displayName": "Julian Wang",
      "userId": "06808066235834124143"
     },
     "user_tz": 240
    },
    "id": "a668f3fa"
   },
   "outputs": [],
   "source": [
    "# Define B_c Matrix\n",
    "B_c1 = np.concatenate((np.zeros((3,3)), np.identity(3)),axis=0)\n",
    "B_c2 = np.concatenate((B_c1, np.zeros((6,1))),axis=1)\n",
    "B_c = np.concatenate((B_c2, np.array([[0,0,0,-alpha]])), axis=0)\n",
    "#print(B_c,B_c.shape)"
   ]
  },
  {
   "cell_type": "code",
   "execution_count": 6,
   "id": "3091c4ba",
   "metadata": {
    "colab": {
     "base_uri": "https://localhost:8080/"
    },
    "executionInfo": {
     "elapsed": 149,
     "status": "ok",
     "timestamp": 1659303891772,
     "user": {
      "displayName": "Julian Wang",
      "userId": "06808066235834124143"
     },
     "user_tz": 240
    },
    "id": "3091c4ba",
    "outputId": "705e337c-b667-4e49-e4fb-b27d4797eea7"
   },
   "outputs": [
    {
     "name": "stdout",
     "output_type": "stream",
     "text": [
      "A= [[1.00000 0.00000 0.00000 1.23640 0.00000 0.00000 0.00000]\n",
      " [0.00000 1.00000 0.00000 0.00000 1.23640 0.00000 0.00000]\n",
      " [0.00000 0.00000 1.00000 0.00000 0.00000 1.23640 0.00000]\n",
      " [0.00000 0.00000 0.00000 1.00000 0.00000 0.00000 0.00000]\n",
      " [0.00000 0.00000 0.00000 0.00000 1.00000 0.00000 0.00000]\n",
      " [0.00000 0.00000 0.00000 0.00000 0.00000 1.00000 0.00000]\n",
      " [0.00000 0.00000 0.00000 0.00000 0.00000 0.00000 1.00000]] (7, 7)\n",
      "B= [[0.76430 0.00000 0.00000 0.00000]\n",
      " [0.00000 0.76430 0.00000 0.00000]\n",
      " [0.00000 0.00000 0.76430 0.00000]\n",
      " [1.23640 0.00000 0.00000 0.00000]\n",
      " [0.00000 1.23640 0.00000 0.00000]\n",
      " [0.00000 0.00000 1.23640 0.00000]\n",
      " [0.00000 0.00000 0.00000 -0.00051]] (7, 4)\n"
     ]
    }
   ],
   "source": [
    "# Define A & B Matrix\n",
    "\"\"\"\n",
    "  Work on this later!!!\n",
    "  \n",
    "[A,B]=c2d(A_c,B_c,time_step);% A 7*7 ;B 7*4\n",
    "\"\"\"\n",
    "A = np.array([[1, 0, 0, 1.2364, 0, 0, 0],\n",
    "              [0, 1, 0, 0, 1.2364, 0, 0],\n",
    "              [0, 0, 1, 0, 0, 1.2364, 0],\n",
    "              [0, 0, 0, 1, 0, 0, 0],\n",
    "              [0, 0, 0, 0, 1, 0, 0],\n",
    "              [0, 0, 0, 0, 0, 1, 0],\n",
    "              [0, 0, 0, 0, 0, 0, 1]\n",
    "    \n",
    "])\n",
    "B = np.array([[0.7643, 0, 0, 0],\n",
    "              [0, 0.7643, 0, 0],\n",
    "              [0, 0, 0.7643, 0],\n",
    "              [1.2364, 0, 0, 0],\n",
    "              [0, 1.2364, 0, 0],\n",
    "              [0, 0, 1.2364, 0],\n",
    "              [0, 0, 0, -alpha]\n",
    "    \n",
    "])\n",
    "print(\"A=\", A, A.shape)\n",
    "print(\"B=\", B, B.shape)\n",
    "#print(A[:,0:3])"
   ]
  },
  {
   "cell_type": "code",
   "execution_count": 7,
   "id": "08a6c5c5",
   "metadata": {
    "executionInfo": {
     "elapsed": 132,
     "status": "ok",
     "timestamp": 1659303896044,
     "user": {
      "displayName": "Julian Wang",
      "userId": "06808066235834124143"
     },
     "user_tz": 240
    },
    "id": "08a6c5c5"
   },
   "outputs": [],
   "source": [
    "# Matrix for State Computation\n",
    "phi=np.zeros((7,7*N)) # A^k 7*7N\n",
    "phi[:,0:7]=A\n",
    "for k in range(2,N+1):\n",
    "    phi[:,7*k-7:7*k]=A@phi[:,7*k-14:7*k-7]\n",
    "#print(phi, phi.shape)"
   ]
  },
  {
   "cell_type": "code",
   "execution_count": 8,
   "id": "94485824",
   "metadata": {
    "executionInfo": {
     "elapsed": 210,
     "status": "ok",
     "timestamp": 1659303898104,
     "user": {
      "displayName": "Julian Wang",
      "userId": "06808066235834124143"
     },
     "user_tz": 240
    },
    "id": "94485824"
   },
   "outputs": [],
   "source": [
    "# # lambda parameter\n",
    "# lam=np.zeros((7,4*N)) #B+AB+......A^(k-1)B 7*4N\n",
    "# lam[:,0:4]=B\n",
    "# for k in range(2,N+1):\n",
    "#     lam[:,4*k-4:4*k]=A@lam[:,4*k-8:4*k-4]+B\n",
    "# # print(lam, lam.shape)"
   ]
  },
  {
   "cell_type": "code",
   "execution_count": 9,
   "id": "6d3ed393-7c8c-494f-a121-458acea9949a",
   "metadata": {},
   "outputs": [],
   "source": [
    "# lambda parameter\n",
    "lam=np.zeros((7,4*N)) #B+AB+......A^(k-1)B 7*4N\n",
    "lam=B\n",
    "lam_prev=B\n",
    "for k in range(2,N+1):\n",
    "    lam_next=A@lam_prev+B\n",
    "    lam = np.concatenate([lam, lam_next], axis=1)\n",
    "    lam_prev = lam_next\n",
    "# print(lam, lam.shape)"
   ]
  },
  {
   "cell_type": "code",
   "execution_count": 10,
   "id": "b50f0e25-7747-427e-b52c-5bfd93f86483",
   "metadata": {},
   "outputs": [
    {
     "data": {
      "text/plain": [
       "array([[0.76430, 0.00000, 0.00000, 0.00000, 3.05728, 0.00000, 0.00000, 0.00000, 6.87895, 0.00000],\n",
       "       [0.00000, 0.76430, 0.00000, 0.00000, 0.00000, 3.05728, 0.00000, 0.00000, 0.00000, 6.87895],\n",
       "       [0.00000, 0.00000, 0.76430, 0.00000, 0.00000, 0.00000, 3.05728, 0.00000, 0.00000, 0.00000],\n",
       "       [1.23640, 0.00000, 0.00000, 0.00000, 2.47280, 0.00000, 0.00000, 0.00000, 3.70920, 0.00000],\n",
       "       [0.00000, 1.23640, 0.00000, 0.00000, 0.00000, 2.47280, 0.00000, 0.00000, 0.00000, 3.70920],\n",
       "       [0.00000, 0.00000, 1.23640, 0.00000, 0.00000, 0.00000, 2.47280, 0.00000, 0.00000, 0.00000],\n",
       "       [0.00000, 0.00000, 0.00000, -0.00051, 0.00000, 0.00000, 0.00000, -0.00102, 0.00000, 0.00000]])"
      ]
     },
     "execution_count": 10,
     "metadata": {},
     "output_type": "execute_result"
    }
   ],
   "source": [
    "lam[:,0:10]"
   ]
  },
  {
   "cell_type": "code",
   "execution_count": 12,
   "id": "272295ef",
   "metadata": {
    "executionInfo": {
     "elapsed": 168,
     "status": "ok",
     "timestamp": 1659303900766,
     "user": {
      "displayName": "Julian Wang",
      "userId": "06808066235834124143"
     },
     "user_tz": 240
    },
    "id": "272295ef"
   },
   "outputs": [],
   "source": [
    "psi=np.zeros((7*N,4*N+4)) #psi 7N*(4N+4)\n",
    "psi[0:7,0:4]=B\n",
    "for k in range(2,N+1):\n",
    "    psi[7*k-7:7*k,:]=A@psi[7*k-14:7*k-7,:]\n",
    "    psi[7*k-7:7*k,4*k-4:4*k]=B\n",
    "#print(psi, psi.shape)"
   ]
  },
  {
   "cell_type": "code",
   "execution_count": 13,
   "id": "f20b3ef8",
   "metadata": {
    "executionInfo": {
     "elapsed": 155,
     "status": "ok",
     "timestamp": 1659303903218,
     "user": {
      "displayName": "Julian Wang",
      "userId": "06808066235834124143"
     },
     "user_tz": 240
    },
    "id": "f20b3ef8"
   },
   "outputs": [],
   "source": [
    "upsilon=np.zeros((4*N,4*N+4)) #upsilon 4N*(4N+4)\n",
    "for k in range(1,N+1):\n",
    "    upsilon[4*k-4:4*k,4*k-4:4*k]=np.identity(4)\n",
    "#print(upsilon, upsilon.shape)\n"
   ]
  },
  {
   "cell_type": "code",
   "execution_count": 14,
   "id": "1bef0522",
   "metadata": {
    "executionInfo": {
     "elapsed": 152,
     "status": "ok",
     "timestamp": 1659303906467,
     "user": {
      "displayName": "Julian Wang",
      "userId": "06808066235834124143"
     },
     "user_tz": 240
    },
    "id": "1bef0522"
   },
   "outputs": [],
   "source": [
    "# Matrix for Optimal Computation\n",
    "Z0 = np.zeros((N+1,1))\n",
    "for k in range(N+1):\n",
    "    Z0[k,0]=np.log(m_wet-alpha*n*T2*math.cos(phii)*time_step*k) #(N+1)*1\n",
    "#print(Z0,Z0.shape)\n",
    "#print(Z0[7,0])\n",
    "\n",
    "mu_1 = np.zeros((1,N+1))\n",
    "mu_2 = np.zeros((1,N+1))\n",
    "for k in range(N+1):\n",
    "    mu_1[0,k]=n*T1*math.cos(phii)*np.exp(-Z0[k,0]) #1*(N+1)\n",
    "    mu_2[0,k]=n*T2*math.cos(phii)*np.exp(-Z0[k,0]) #1*(N+1)\n",
    "#print(mu_1, mu_1.shape)\n",
    "#print(mu_2, mu_2.shape)   "
   ]
  },
  {
   "cell_type": "code",
   "execution_count": 15,
   "id": "004e0193",
   "metadata": {
    "executionInfo": {
     "elapsed": 153,
     "status": "ok",
     "timestamp": 1659303907646,
     "user": {
      "displayName": "Julian Wang",
      "userId": "06808066235834124143"
     },
     "user_tz": 240
    },
    "id": "004e0193"
   },
   "outputs": [],
   "source": [
    "epsilon_k=np.zeros((7,N))\n",
    "for k in range(0,N):\n",
    "    temp = phi[:,7*k:7*(k+1)]@y0+lam[:,4*k:4*(k+1)]@np.array([g + [0]]).T\n",
    "    #print(temp.shape)\n",
    "    epsilon_k[:,k]=temp[:,0]\n",
    "#print(epsilon_k, epsilon_k.shape)"
   ]
  },
  {
   "cell_type": "code",
   "execution_count": 16,
   "id": "8343b061",
   "metadata": {
    "executionInfo": {
     "elapsed": 208,
     "status": "ok",
     "timestamp": 1659303908702,
     "user": {
      "displayName": "Julian Wang",
      "userId": "06808066235834124143"
     },
     "user_tz": 240
    },
    "id": "8343b061"
   },
   "outputs": [],
   "source": [
    "e_sigma = np.array([0,0,0,1])\n",
    "#E = np.concatenate((np.identity(6), np.zeros((6,1))), axis=1)\n",
    "F = np.concatenate((np.zeros(6), np.ones(1)), axis=None).reshape((1,7))\n",
    "E_u = np.concatenate((np.identity(3), np.zeros((3,1))), axis=1)\n",
    "#print(F,F.shape)"
   ]
  },
  {
   "cell_type": "code",
   "execution_count": 17,
   "id": "1c60e05e",
   "metadata": {
    "executionInfo": {
     "elapsed": 146,
     "status": "ok",
     "timestamp": 1659303909781,
     "user": {
      "displayName": "Julian Wang",
      "userId": "06808066235834124143"
     },
     "user_tz": 240
    },
    "id": "1c60e05e"
   },
   "outputs": [],
   "source": [
    "omega=np.zeros((1,4*N))  #1*4N\n",
    "for k in range(0,N):\n",
    "    omega[0,4*k:4*(k+1)]=e_sigma\n",
    "omega=time_step*omega\n",
    "#print(omega, omega.shape)"
   ]
  },
  {
   "cell_type": "code",
   "execution_count": 18,
   "id": "77598b29",
   "metadata": {
    "executionInfo": {
     "elapsed": 191,
     "status": "ok",
     "timestamp": 1659303911067,
     "user": {
      "displayName": "Julian Wang",
      "userId": "06808066235834124143"
     },
     "user_tz": 240
    },
    "id": "77598b29"
   },
   "outputs": [],
   "source": [
    "# Define and solve the CVXPY problem.\n",
    "eta = cp.Variable((4*N+4,1))\n",
    "obj = cp.Minimize(omega@eta[0:4*N,0])\n"
   ]
  },
  {
   "cell_type": "code",
   "execution_count": 19,
   "id": "b45154df",
   "metadata": {
    "executionInfo": {
     "elapsed": 4,
     "status": "ok",
     "timestamp": 1659303912248,
     "user": {
      "displayName": "Julian Wang",
      "userId": "06808066235834124143"
     },
     "user_tz": 240
    },
    "id": "b45154df"
   },
   "outputs": [],
   "source": [
    "#  Final height constraint\n",
    "m1 = np.concatenate((np.identity(3), np.zeros((3,4))), axis=1)\n",
    "m2 = np.concatenate((np.zeros((4,3)), np.zeros((4,4))), axis=1)\n",
    "m = np.concatenate((m1, m2), axis=0)\n",
    "h_const = [m@(epsilon_k[:,N-1].reshape((7,1))+psi[7*N-7:7*N,:]@eta)==np.zeros((7,1))]"
   ]
  },
  {
   "cell_type": "code",
   "execution_count": 20,
   "id": "45563cfc",
   "metadata": {
    "executionInfo": {
     "elapsed": 3,
     "status": "ok",
     "timestamp": 1659303913103,
     "user": {
      "displayName": "Julian Wang",
      "userId": "06808066235834124143"
     },
     "user_tz": 240
    },
    "id": "45563cfc"
   },
   "outputs": [],
   "source": [
    "#  Final velocity constraint\n",
    "v_const = [\n",
    "    np.array([[0, 0, 0, 1, 0, 0, 0]])@(epsilon_k[:,N-1].reshape((7,1))+psi[7*N-7:7*N,:]@eta)==0,\n",
    "    np.array([[0, 0, 0, 0, 1, 0, 0]])@(epsilon_k[:,N-1].reshape((7,1))+psi[7*N-7:7*N,:]@eta)==0,\n",
    "    np.array([[0, 0, 0, 0, 0, 1, 0]])@(epsilon_k[:,N-1].reshape((7,1))+psi[7*N-7:7*N,:]@eta)==0,\n",
    "]\n"
   ]
  },
  {
   "cell_type": "code",
   "execution_count": 21,
   "id": "0c7af4f3",
   "metadata": {
    "executionInfo": {
     "elapsed": 2,
     "status": "ok",
     "timestamp": 1659303914202,
     "user": {
      "displayName": "Julian Wang",
      "userId": "06808066235834124143"
     },
     "user_tz": 240
    },
    "id": "0c7af4f3"
   },
   "outputs": [],
   "source": [
    "# Convexified Thrust Constraint\n",
    "#Conv_const = []\n",
    "#for k in range(N):\n",
    "#    Conv_const.append(cp.norm(E_u@upsilon[4*k:4*k+4,:]@eta,2) <= e_sigma@upsilon[4*k:4*k+4,:]@eta) \n",
    "#    #cp.norm(E_u@upsilon[4*k:4*k+4,:]@eta,2)<=e_sigma@upsilon[4*k:4*k+4,:]@eta\n",
    "Conv_const = [\n",
    "      cp.SOC(e_sigma@upsilon[4*k:4*k+4,:]@eta, E_u@upsilon[4*k:4*k+4,:]@eta) for k in range(N)\n",
    "      # cp.norm(E_u @ upsilon[4*k+1:4*k+4+1,:] @ eta, 2) <= e_sigma @ upsilon[4*k+1:4*k+4+1,:]@eta for k in range(0,N-1) # ?\n",
    "]"
   ]
  },
  {
   "cell_type": "code",
   "execution_count": 22,
   "id": "246a2083",
   "metadata": {
    "executionInfo": {
     "elapsed": 157,
     "status": "ok",
     "timestamp": 1659303915263,
     "user": {
      "displayName": "Julian Wang",
      "userId": "06808066235834124143"
     },
     "user_tz": 240
    },
    "id": "246a2083"
   },
   "outputs": [],
   "source": [
    "\n",
    "# thrust constraints\n",
    "thr_const = [mu_1[0,0]*(1-(F@y0-Z0[0])+0.5*(F@y0-Z0[0])**2)<=e_sigma@upsilon[0:4,:]@eta,\n",
    "            e_sigma@upsilon[0:4,:]@eta<=mu_2[0,0]*(1-(F@y0-Z0[0]))]\n",
    "  \n",
    "for k in range(0,N):\n",
    "    thr_const.append(mu_1[0,k+1]*(1-(F.reshape((1,7))@(epsilon_k[:,k].reshape((7,1))+psi[7*k:7*(k+1),:]@eta)-Z0[k+1,0])+0.5*(F.reshape((1,7))@(epsilon_k[:,k].reshape((7,1))+psi[7*k:7*(k+1),:]@eta)-Z0[k+1,0])**2)<=e_sigma@upsilon[4*k:4*k+4,:]@eta)\n",
    "    thr_const.append(e_sigma@upsilon[4*k:4*k+4,:]@eta<=mu_2[0,k+1]*(1-(F.reshape((1,7))@(epsilon_k[:,k].reshape((7,1))+psi[7*k:7*(k+1),:]@eta)-Z0[k+1,0])))\n"
   ]
  },
  {
   "cell_type": "code",
   "execution_count": 23,
   "id": "7310e30f",
   "metadata": {
    "executionInfo": {
     "elapsed": 145,
     "status": "ok",
     "timestamp": 1659303916903,
     "user": {
      "displayName": "Julian Wang",
      "userId": "06808066235834124143"
     },
     "user_tz": 240
    },
    "id": "7310e30f"
   },
   "outputs": [],
   "source": [
    "# Fuel mass constraints\n",
    "f_const = []\n",
    "for k in range(0,N):\n",
    "    f_const.append(F.reshape((1,7))@(epsilon_k[:,k].reshape((7,1))+psi[7*k:7*(k+1),:]@eta)<=np.log(m_wet-alpha*n*T1*math.cos(phii)*time_step*(k+1)))\n",
    "    f_const.append(np.log(m_wet-alpha*n*T2*math.cos(phii)*time_step*(k+1))<=F.reshape((1,7))@(epsilon_k[:,k].reshape((7,1))+psi[7*k:7*(k+1),:]@eta))\n"
   ]
  },
  {
   "cell_type": "code",
   "execution_count": 24,
   "id": "fe92e0df",
   "metadata": {
    "executionInfo": {
     "elapsed": 4,
     "status": "ok",
     "timestamp": 1659303918974,
     "user": {
      "displayName": "Julian Wang",
      "userId": "06808066235834124143"
     },
     "user_tz": 240
    },
    "id": "fe92e0df"
   },
   "outputs": [],
   "source": [
    "# Cone constraints\n",
    "cone_const = [cp.norm(np.array([[0, 1, 0],[0, 0, 1]])@np.concatenate((np.identity(3),np.zeros((3,4))),axis=1)@(epsilon_k[:,k].reshape((7,1))+psi[7*k:7*(k+1),:]@eta),2)+np.array([[-0.268, 0, 0, 0, 0, 0, 0]])@(epsilon_k[:,k].reshape((7,1))+psi[7*k:7*(k+1),:]@eta)<=0]\n"
   ]
  },
  {
   "cell_type": "code",
   "execution_count": 25,
   "id": "09c7cb7f",
   "metadata": {
    "colab": {
     "base_uri": "https://localhost:8080/"
    },
    "executionInfo": {
     "elapsed": 2089,
     "status": "ok",
     "timestamp": 1659307048311,
     "user": {
      "displayName": "Julian Wang",
      "userId": "06808066235834124143"
     },
     "user_tz": 240
    },
    "id": "09c7cb7f",
    "outputId": "c8dc5ffa-33a6-47ef-eb4a-56266891fecd"
   },
   "outputs": [
    {
     "name": "stdout",
     "output_type": "stream",
     "text": [
      "[]\n",
      "421.4635709035776\n",
      "optimal\n"
     ]
    }
   ],
   "source": [
    "socp_constraints =  Conv_const + thr_const + f_const + h_const + v_const + cone_const\n",
    "\n",
    "prob = cp.Problem(obj, socp_constraints)\n",
    "print(prob.parameters())\n",
    "prob.solve()\n",
    "print(obj.value)\n",
    "print(prob.status)"
   ]
  },
  {
   "cell_type": "code",
   "execution_count": 26,
   "id": "b50b87dc",
   "metadata": {
    "executionInfo": {
     "elapsed": 153,
     "status": "ok",
     "timestamp": 1659303928899,
     "user": {
      "displayName": "Julian Wang",
      "userId": "06808066235834124143"
     },
     "user_tz": 240
    },
    "id": "b50b87dc"
   },
   "outputs": [],
   "source": [
    "#     Output Information\n",
    "# Converting output into manageable format\n",
    "display_position = np.zeros((3,N+1))\n",
    "display_velocity = np.zeros((3,N+1))\n",
    "display_netthrust = np.zeros((3,N+1))\n",
    "display_thrust = np.zeros((3,N+1))\n",
    "display_allthrust = np.zeros((1,N+1))\n",
    "display_allvelocity = np.zeros((1,N+1))\n",
    "display_position[0:3, 0] = position_0\n",
    "display_velocity[0:3, 0] = velocity_0\n",
    "mass = np.zeros((1,N+1))\n",
    "mass[0] = m_wet"
   ]
  },
  {
   "cell_type": "code",
   "execution_count": 27,
   "id": "3bd6d8ef",
   "metadata": {
    "executionInfo": {
     "elapsed": 174,
     "status": "ok",
     "timestamp": 1659303931820,
     "user": {
      "displayName": "Julian Wang",
      "userId": "06808066235834124143"
     },
     "user_tz": 240
    },
    "id": "3bd6d8ef"
   },
   "outputs": [],
   "source": [
    "for k in range(0,N):\n",
    "    v = (epsilon_k[:,k].reshape((7,1))+psi[7*k:7*(k+1),:]@eta.value)\n",
    "    display_position[:,k+1] = (np.concatenate((np.identity(3), np.zeros((3,4))), axis=1)@v).reshape((3,))\n",
    "    temp = np.concatenate((np.zeros((3,3)), np.identity(3)), axis=1)\n",
    "    display_velocity[:,k+1] = (np.concatenate((temp, np.zeros((3,1))), axis=1)@v).reshape(3,)\n",
    "    mass[0,k+1] = np.array([[0, 0, 0, 0, 0, 0, 1]])@v\n",
    "    mass[0,k+1] = np.exp(mass[0,k+1])\n",
    "\n",
    "for k in range(0,N):\n",
    "    display_netthrust[:,k+1] = (np.concatenate((np.identity(3), np.zeros((3,1))), axis=1)@(upsilon[4*k:4*k+4,:]@eta.value)).reshape(3,)\n",
    "    display_thrust[:,k+1] = display_netthrust[:,k+1]\n",
    "    display_netthrust[:,k+1] = display_netthrust[:,k+1]*mass[0,k+1]\n",
    "    #display_allthrust[0,k+1] = cp.norm(display_thrust[0:3,k+1],2)*mass[0,k+1]\n",
    "    #display_allvelocity[0,k+1] = cp.norm(display_velocity[0:3,k+1],2)\n"
   ]
  },
  {
   "cell_type": "code",
   "execution_count": 28,
   "id": "9918b75d",
   "metadata": {
    "colab": {
     "base_uri": "https://localhost:8080/",
     "height": 282
    },
    "executionInfo": {
     "elapsed": 431,
     "status": "ok",
     "timestamp": 1659303933701,
     "user": {
      "displayName": "Julian Wang",
      "userId": "06808066235834124143"
     },
     "user_tz": 240
    },
    "id": "9918b75d",
    "outputId": "bac9edd0-3b42-40be-ce7e-eb0b1339b1b4"
   },
   "outputs": [
    {
     "data": {
      "text/plain": [
       "<matplotlib.legend.Legend at 0x1220e6470>"
      ]
     },
     "execution_count": 28,
     "metadata": {},
     "output_type": "execute_result"
    },
    {
     "data": {
      "image/png": "[encoded data removed]",
      "text/plain": [
       "<Figure size 640x480 with 1 Axes>"
      ]
     },
     "metadata": {},
     "output_type": "display_data"
    }
   ],
   "source": [
    "plt.plot(display_position[0,:],label=\"X\")\n",
    "plt.plot(display_position[1,:],label=\"Y\")\n",
    "plt.plot(display_position[2,:],label=\"Z\")\n",
    "plt.legend(loc=\"upper left\")"
   ]
  },
  {
   "cell_type": "code",
   "execution_count": 29,
   "id": "977e026b",
   "metadata": {
    "colab": {
     "base_uri": "https://localhost:8080/",
     "height": 282
    },
    "executionInfo": {
     "elapsed": 627,
     "status": "ok",
     "timestamp": 1658513744518,
     "user": {
      "displayName": "Julian Wang",
      "userId": "06808066235834124143"
     },
     "user_tz": 240
    },
    "id": "977e026b",
    "outputId": "7a9ff915-b739-469e-cc1a-1885f6d7c37e"
   },
   "outputs": [
    {
     "data": {
      "text/plain": [
       "<matplotlib.legend.Legend at 0x1220c0f70>"
      ]
     },
     "execution_count": 29,
     "metadata": {},
     "output_type": "execute_result"
    },
    {
     "data": {
      "image/png": "[encoded data removed]",
      "text/plain": [
       "<Figure size 640x480 with 1 Axes>"
      ]
     },
     "metadata": {},
     "output_type": "display_data"
    }
   ],
   "source": [
    "plt.plot(display_netthrust[0,:],label=\"X\")\n",
    "plt.plot(display_netthrust[1,:],label=\"Y\")\n",
    "plt.plot(display_netthrust[2,:],label=\"Z\")\n",
    "plt.legend(loc=\"upper left\")"
   ]
  },
  {
   "cell_type": "code",
   "execution_count": 30,
   "id": "bf1b043a",
   "metadata": {
    "colab": {
     "base_uri": "https://localhost:8080/",
     "height": 282
    },
    "executionInfo": {
     "elapsed": 773,
     "status": "ok",
     "timestamp": 1658513745290,
     "user": {
      "displayName": "Julian Wang",
      "userId": "06808066235834124143"
     },
     "user_tz": 240
    },
    "id": "bf1b043a",
    "outputId": "118d9ef6-f92c-4ba0-ea1b-9cdc80885974"
   },
   "outputs": [
    {
     "data": {
      "text/plain": [
       "[<matplotlib.lines.Line2D at 0x1222845e0>]"
      ]
     },
     "execution_count": 30,
     "metadata": {},
     "output_type": "execute_result"
    },
    {
     "data": {
      "image/png": "[encoded data removed]",
      "text/plain": [
       "<Figure size 640x480 with 2 Axes>"
      ]
     },
     "metadata": {},
     "output_type": "display_data"
    }
   ],
   "source": [
    "m1 = plt.subplot(2,1,1)\n",
    "m2 = plt.subplot(2,1,2)\n",
    "m1.plot(mass[0,:],label=\"Z\")\n",
    "\n",
    "m2.plot(mass[0,50:52],label=\"Z\")"
   ]
  },
  {
   "cell_type": "code",
   "execution_count": null,
   "id": "0efdfd90",
   "metadata": {
    "id": "0efdfd90"
   },
   "outputs": [],
   "source": []
  }
 ],
 "metadata": {
  "colab": {
   "collapsed_sections": [],
   "name": "Problem_4_Convex.ipynb",
   "provenance": []
  },
  "kernelspec": {
   "display_name": "Python 3 (ipykernel)",
   "language": "python",
   "name": "python3"
  },
  "language_info": {
   "codemirror_mode": {
    "name": "ipython",
    "version": 3
   },
   "file_extension": ".py",
   "mimetype": "text/x-python",
   "name": "python",
   "nbconvert_exporter": "python",
   "pygments_lexer": "ipython3",
   "version": "3.10.7"
  }
 },
 "nbformat": 4,
 "nbformat_minor": 5
}
